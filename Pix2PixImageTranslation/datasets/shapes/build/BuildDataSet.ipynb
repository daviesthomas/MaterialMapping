{
 "cells": [
  {
   "cell_type": "code",
   "execution_count": 1,
   "metadata": {},
   "outputs": [],
   "source": [
    "import os\n",
    "import shutil\n",
    "import re\n",
    "from PIL import Image\n",
    "from sklearn.model_selection import train_test_split\n",
    "from tqdm import tqdm"
   ]
  },
  {
   "cell_type": "code",
   "execution_count": 2,
   "metadata": {},
   "outputs": [],
   "source": [
    "IMG_EXTENSIONS = ['.jpg', '.JPG', '.jpeg', '.JPEG', '.png', '.PNG']\n",
    "\n",
    "def is_image_file(filename):\n",
    "    return any(filename.endswith(extension) for extension in IMG_EXTENSIONS)\n",
    "\n",
    "\n",
    "def fetch_images(image_location):\n",
    "    images = []\n",
    "    assert os.path.isdir(image_location), '%s is not a valid directory'\n",
    "\n",
    "    for root, _, filenames in sorted(os.walk(image_location)):\n",
    "        for filename in filenames:\n",
    "            if is_image_file(filename):\n",
    "                path = os.path.join(root, filename)\n",
    "                images.append(path)\n",
    "\n",
    "    return sorted(images[:len(images)])\n",
    "\n",
    "def GenerateData(dataPath, startIdx=1):\n",
    "    os.mkdir(dataPath) if not os.path.exists(dataPath) else None\n",
    "\n",
    "    i = startIdx\n",
    "    with tqdm(desc='Generating Images', total=len(list), leave=False, unit='image', position=0) as progressBar:\n",
    "        for item in list:\n",
    "            input_image = Image.open(item['A'])\n",
    "            material_image = Image.open(item['B'])\n",
    "            render_image = Image.open(item['C'])\n",
    "            \n",
    "            output_image = Image.new('RGBA', (768, 256))\n",
    "            output_image.paste(input_image, (0, 0))\n",
    "            output_image.paste(material_image, (256, 0))\n",
    "            output_image.paste(render_image, (512, 0))\n",
    "\n",
    "            output_image.save(dataPath + '/img_{}.png'.format(i))\n",
    "            i = i + 1\n",
    "            progressBar.update(1)\n",
    "            \n",
    "def ShuffleDataSet(dataPath):\n",
    "    assert os.path.isdir(dataPath), '%s is not a valid directory'\n",
    "\n",
    "    data = fetch_images(dataPath)\n",
    "    train_data, val_data = train_test_split(data, test_size=0.20, shuffle=True)\n",
    "    #val_data, test_data = train_test_split(val_data, test_size=0.5, shuffle=True)\n",
    "\n",
    "    os.mkdir(dataPath + '/train') if not os.path.exists(dataPath + '/train') else None\n",
    "    os.mkdir(dataPath + '/val') if not os.path.exists(dataPath + '/val') else None\n",
    "\n",
    "    for train_file in train_data:\n",
    "        filename = os.path.split(train_file)[1]\n",
    "        shutil.move(train_file, dataPath + '/train/' + filename)\n",
    "\n",
    "    for val_file in val_data:\n",
    "        filename = os.path.split(val_file)[1]\n",
    "        shutil.move(val_file, dataPath + '/val/' + filename)\n",
    "\n",
    "    #for test_file in test_data:\n",
    "    #    filename = os.path.split(test_file)[1]\n",
    "    #    shutil.move(test_file, dataPath + '/test/' + filename)\n"
   ]
  },
  {
   "cell_type": "code",
   "execution_count": 3,
   "metadata": {},
   "outputs": [],
   "source": [
    "rendersPath = './renders'\n",
    "materialsPath = './materials'"
   ]
  },
  {
   "cell_type": "code",
   "execution_count": 4,
   "metadata": {},
   "outputs": [
    {
     "name": "stderr",
     "output_type": "stream",
     "text": [
      "                                                                                                                       \r"
     ]
    }
   ],
   "source": [
    "materialNums = [0, 3, 7, 13, 16, 21, 23, 31, 37, 42]\n",
    "angles = [0, 45, 90, 135, 180, 225, 270, 315]\n",
    "images = ['armadillo', 'blenderSphere', 'dragon', 'eagle', 'fandisk', 'fishBigmouth', 'frog', 'gear_knee', 'Handle', 'maskHorror', 'monster01', 'pufferfish', 'teapot']\n",
    "\n",
    "list = []\n",
    "for image in images:\n",
    "    for inputAngle in angles:\n",
    "        for inputMaterial in materialNums:\n",
    "            for outputMaterial in materialNums:\n",
    "                list.append({'A': rendersPath + '/{0}_{1}_{2}.png'.format(image, inputMaterial, inputAngle), \n",
    "                             'B': materialsPath + '/sphere_{0}.png'.format(outputMaterial),\n",
    "                             'C': rendersPath + '/{0}_{1}_{2}.png'.format(image, outputMaterial, inputAngle)})\n",
    "\n",
    "GenerateData('./data')\n",
    "ShuffleDataSet('./data')"
   ]
  },
  {
   "cell_type": "code",
   "execution_count": 5,
   "metadata": {},
   "outputs": [
    {
     "name": "stderr",
     "output_type": "stream",
     "text": [
      "                                                                                                                       \r"
     ]
    }
   ],
   "source": [
    "# Reserved for test set\n",
    "\n",
    "materialNums = [1, 4, 12, 15, 20, 22, 26, 27, 32, 38]\n",
    "angles = [0, 45, 90, 135, 180, 225, 270, 315]\n",
    "images = ['bunny', 'squirrel', 'plane']\n",
    "\n",
    "list = []\n",
    "for image in images:\n",
    "    for inputAngle in angles:\n",
    "        for inputMaterial in materialNums:\n",
    "            for outputMaterial in materialNums:\n",
    "                list.append({'A': rendersPath + '/{0}_{1}_{2}.png'.format(image, inputMaterial, inputAngle), \n",
    "                             'B': materialsPath + '/sphere_{0}.png'.format(outputMaterial),\n",
    "                             'C': rendersPath + '/{0}_{1}_{2}.png'.format(image, outputMaterial, inputAngle)})\n",
    "\n",
    "os.mkdir('./data/test') if not os.path.exists('./data/test') else None\n",
    "GenerateData('./data/test', 12000)"
   ]
  },
  {
   "cell_type": "code",
   "execution_count": null,
   "metadata": {},
   "outputs": [],
   "source": []
  }
 ],
 "metadata": {
  "kernelspec": {
   "display_name": "Python 3",
   "language": "python",
   "name": "python3"
  },
  "language_info": {
   "codemirror_mode": {
    "name": "ipython",
    "version": 3
   },
   "file_extension": ".py",
   "mimetype": "text/x-python",
   "name": "python",
   "nbconvert_exporter": "python",
   "pygments_lexer": "ipython3",
   "version": "3.7.6"
  }
 },
 "nbformat": 4,
 "nbformat_minor": 2
}
