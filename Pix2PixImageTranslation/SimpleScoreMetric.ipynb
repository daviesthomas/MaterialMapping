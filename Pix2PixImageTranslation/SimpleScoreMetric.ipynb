{
 "cells": [
  {
   "cell_type": "markdown",
   "metadata": {},
   "source": [
    "# **Exploring Material Mapping Techniques**\n",
    "\n",
    "## Faisal Habib & Thomas Davies\n",
    "\n",
    "### CSC 2516 -- Final Project (Spring 2020)\n",
    "Routines for evaluating the results from modified pix2pix"
   ]
  },
  {
   "cell_type": "code",
   "execution_count": 1,
   "metadata": {},
   "outputs": [],
   "source": [
    "import os.path\n",
    "import numpy as np\n",
    "\n",
    "import torch\n",
    "import torch.nn as nn\n",
    "import torchvision.models as models\n",
    "import torch.utils.data\n",
    "import torchvision.transforms as transforms\n",
    "\n",
    "from PIL import Image\n",
    "from tqdm import tqdm"
   ]
  },
  {
   "cell_type": "code",
   "execution_count": 2,
   "metadata": {},
   "outputs": [],
   "source": [
    "def compute_score(filenames, resultsfolder='./datasets/shapes/results'):\n",
    "    to_tensor = transforms.Compose([transforms.ToTensor()])\n",
    "\n",
    "    scores = []\n",
    "    \n",
    "    with tqdm(desc='Evaluation', total=len(filenames), leave=True, unit='images', position=0) as progressBar:\n",
    "        for filename in filenames:\n",
    "            # Read the image file\n",
    "            image_file = Image.open(resultsfolder + '/forged_{}'.format(filename)).convert('RGBA')\n",
    "            target_file = Image.open(resultsfolder + '/target_{}'.format(filename)).convert('RGBA')\n",
    "        \n",
    "            # Apply transforms and convert to tensor\n",
    "            image = to_tensor(image_file)\n",
    "            target = to_tensor(target_file)\n",
    "\n",
    "            img_norm = torch.norm(image)\n",
    "\n",
    "            # Compute Scores\n",
    "            scores.append(1.0 - torch.norm((image - target))/img_norm)\n",
    "            \n",
    "            progressBar.update(1)\n",
    "    \n",
    "    return (np.mean(scores), np.std(scores))"
   ]
  },
  {
   "cell_type": "code",
   "execution_count": 3,
   "metadata": {},
   "outputs": [
    {
     "name": "stderr",
     "output_type": "stream",
     "text": [
      "Evaluation: 100%|█████████████████████████████████████████████████████████████| 2400/2400 [00:12<00:00, 192.01images/s]"
     ]
    },
    {
     "name": "stdout",
     "output_type": "stream",
     "text": [
      "Mean Score = 83.5446 %\n",
      "Std. Dev. Score = 3.8194 %\n"
     ]
    },
    {
     "name": "stderr",
     "output_type": "stream",
     "text": [
      "\n"
     ]
    }
   ],
   "source": [
    "# Get the filenames\n",
    "filenames = os.listdir('./datasets/shapes/test')\n",
    "\n",
    "#Change the folder name below to the one you want to evaluate\n",
    "resultsFolder = './datasets/shapes/results_test_wnbn'\n",
    "\n",
    "meanScore, StdDevScore = compute_score(filenames, resultsFolder)\n",
    "\n",
    "print('Mean Score = {0:.2f} %'.format(100.0*meanScore))\n",
    "print('Std. Dev. Score = {0:.2f} %'.format(100.0*StdDevScore))"
   ]
  }
 ],
 "metadata": {
  "kernelspec": {
   "display_name": "Python 3",
   "language": "python",
   "name": "python3"
  },
  "language_info": {
   "codemirror_mode": {
    "name": "ipython",
    "version": 3
   },
   "file_extension": ".py",
   "mimetype": "text/x-python",
   "name": "python",
   "nbconvert_exporter": "python",
   "pygments_lexer": "ipython3",
   "version": "3.7.6"
  }
 },
 "nbformat": 4,
 "nbformat_minor": 4
}
