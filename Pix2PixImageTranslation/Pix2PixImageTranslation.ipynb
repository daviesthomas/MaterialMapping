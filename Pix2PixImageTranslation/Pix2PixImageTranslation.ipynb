{
 "cells": [
  {
   "cell_type": "markdown",
   "metadata": {
    "colab_type": "text",
    "id": "ymSXhKCjbwIC"
   },
   "source": [
    "# **Exploring Material Mapping Techniques**\n",
    "\n",
    "## Faisal Habib & Thomas Davies\n",
    "\n",
    "### CSC 2516 -- Final Project (Spring 2020)\n",
    "Explore neural network architectures to render objects in user specified material that reduces the rendering time and improves designer's productivity."
   ]
  },
  {
   "cell_type": "markdown",
   "metadata": {
    "colab_type": "text",
    "id": "NJcqvWWAsE3x"
   },
   "source": [
    "# Pix2Pix Image Translation (for Material Rendering)"
   ]
  },
  {
   "cell_type": "markdown",
   "metadata": {
    "colab_type": "text",
    "id": "ePmOJLU8rk4w"
   },
   "source": [
    "## Imports"
   ]
  },
  {
   "cell_type": "code",
   "execution_count": 1,
   "metadata": {
    "colab": {},
    "colab_type": "code",
    "id": "1tfvtOvFsA6c"
   },
   "outputs": [],
   "source": [
    "import ImageTransforms\n",
    "import ImageTranslationModel\n",
    "import main"
   ]
  },
  {
   "cell_type": "markdown",
   "metadata": {
    "colab_type": "text",
    "id": "xsnb__nbrJlh"
   },
   "source": [
    "## Training Parameters & Model Settings\n"
   ]
  },
  {
   "cell_type": "code",
   "execution_count": 2,
   "metadata": {
    "colab": {},
    "colab_type": "code",
    "id": "eEVMCwIFsuk-"
   },
   "outputs": [],
   "source": [
    "# args_dict contains important setup arguments.\n",
    "args_dict = {\n",
    "        'verbose': True,                                      # Controls print messages.  Set to False to disable printing\n",
    "        'train': True,                                        # True for training the network\n",
    "        'parameter_filename': './parameters/parameters.pt',   # Directory to store the network parameters\n",
    "        'save_parameters': True,                              # Set to True to store the trained\n",
    "        'lr': 0.0005,                                         # Learning Rate\n",
    "        'lr_decay_step': 1,                                   # Learning Rate decay applied every n step (after the regular epochs training)\n",
    "        'lr_decay_gamma': 0.90,                               # Multiplicative decay rate\n",
    "        'beta1': (0.5, 0.999),                                # Adam Optimizer Parameters\n",
    "        'lambda_L1': 10.0,                                    # L1 Regularizer\n",
    "        'lambda_Style': 0.0,                                  # Style Regularizer\n",
    "        'lambda_GP': 0.0,                                     # Gradient Penalty\n",
    "        'spectral_norm': True,                                # Apply spectral norm to convolution network weights\n",
    "        'batch_size': 4,                                      # Batch Size\n",
    "        'batch_statistics': True,                             # Print statistics inbetween batches\n",
    "        'total_regular_epochs': 10,                           # Total epochs to train\n",
    "        'total_decay_epochs': 10,                             # Additional epochs to train with learning rate would decay\n",
    "        'target_real_label': 1.0,                             # Numerical value for true label\n",
    "        'target_forged_label': 0.0,                           # Numerical value for false label\n",
    "\n",
    "        # Data file locations.  Set to None if a validation set is not available\n",
    "        'training_data_folder': './datasets/shapes/train', \n",
    "        'validation_data_folder': './datasets/shapes/val', \n",
    "        'test_data_folder': './datasets/shapes/test', \n",
    "        'direction': 'ABC', \n",
    "        'image_channels': 4,\n",
    "        'results_folder': './datasets/shapes/results_test_wnbn', \n",
    "\n",
    "        # Image processing parameters.  These are specific to the Facade dataset\n",
    "        'PreProcessOptions': ImageTransforms.PreprocessOptions.RESIZE_AND_CROP,\n",
    "        'load_size': 286,\n",
    "        'crop_size': 256,\n",
    "        'shuffle': True,\n",
    "        'grayscale_input': False,\n",
    "        'grayscale_output': False\n",
    "    }"
   ]
  },
  {
   "cell_type": "code",
   "execution_count": 3,
   "metadata": {
    "colab": {
     "base_uri": "https://localhost:8080/",
     "height": 364
    },
    "colab_type": "code",
    "executionInfo": {
     "elapsed": 68644,
     "status": "error",
     "timestamp": 1585799967309,
     "user": {
      "displayName": "Faisal Habib",
      "photoUrl": "https://lh3.googleusercontent.com/a-/AOh14GjXNIZeIjSPpbqJ5sZUmC70jdWFF-G4GfTvH8PC=s64",
      "userId": "07881410576111386168"
     },
     "user_tz": 240
    },
    "id": "wjKgIClmtIxV",
    "outputId": "c9f82dc2-5b05-48ee-fc9f-c77fddb7a1e0",
    "scrolled": true
   },
   "outputs": [
    {
     "name": "stdout",
     "output_type": "stream",
     "text": [
      "Running on GPU: GeForce RTX 2060 SUPER.\n",
      "{'verbose': True, 'train': True, 'parameter_filename': './parameters/parameters_test_wnbn.pt', 'save_parameters': True, 'lr': 0.0005, 'lr_decay_step': 1, 'lr_decay_gamma': 0.9, 'beta1': (0.5, 0.999), 'lambda_L1': 0.0, 'lambda_Style': 0.0, 'lambda_GP': 0.0, 'spectral_norm': True, 'batch_size': 4, 'batch_statistics': True, 'total_regular_epochs': 10, 'total_decay_epochs': 10, 'target_real_label': 1.0, 'target_forged_label': 0.0, 'training_data_folder': './datasets/shapes/train', 'validation_data_folder': './datasets/shapes/val', 'test_data_folder': './datasets/shapes/test', 'direction': 'ABC', 'image_channels': 4, 'results_folder': './datasets/shapes/results_test_wnbn', 'PreProcessOptions': <PreprocessOptions.RESIZE_AND_CROP: (1,)>, 'load_size': 286, 'crop_size': 256, 'shuffle': True, 'grayscale_input': False, 'grayscale_output': False, 'device': 'cuda'}\n",
      "Training Images: 8320 | Validation Images: 2080 | Test Images: 2400\n",
      "Generator Network\n",
      "----------------------------------------------------------------\n"
     ]
    },
    {
     "name": "stderr",
     "output_type": "stream",
     "text": [
      "\r",
      "Training:   0%|                                                                            | 0/2080 [00:00<?, ?batch/s]"
     ]
    },
    {
     "name": "stdout",
     "output_type": "stream",
     "text": [
      "----------------------------------------------------------------\n",
      "        Layer (type)               Output Shape         Param #\n",
      "================================================================\n",
      "            Conv2d-1         [-1, 64, 128, 128]           4,096\n",
      "         LeakyReLU-2         [-1, 64, 128, 128]               0\n",
      "         Dropout2d-3         [-1, 64, 128, 128]               0\n",
      "            Conv2d-4          [-1, 128, 64, 64]         131,072\n",
      "       BatchNorm2d-5          [-1, 128, 64, 64]             256\n",
      "         LeakyReLU-6          [-1, 128, 64, 64]               0\n",
      "         Dropout2d-7          [-1, 128, 64, 64]               0\n",
      "            Conv2d-8          [-1, 256, 32, 32]         524,288\n",
      "       BatchNorm2d-9          [-1, 256, 32, 32]             512\n",
      "        LeakyReLU-10          [-1, 256, 32, 32]               0\n",
      "        Dropout2d-11          [-1, 256, 32, 32]               0\n",
      "           Conv2d-12          [-1, 512, 16, 16]       2,097,152\n",
      "      BatchNorm2d-13          [-1, 512, 16, 16]           1,024\n",
      "        LeakyReLU-14          [-1, 512, 16, 16]               0\n",
      "        Dropout2d-15          [-1, 512, 16, 16]               0\n",
      "           Conv2d-16            [-1, 512, 8, 8]       4,194,304\n",
      "      BatchNorm2d-17            [-1, 512, 8, 8]           1,024\n",
      "        LeakyReLU-18            [-1, 512, 8, 8]               0\n",
      "        Dropout2d-19            [-1, 512, 8, 8]               0\n",
      "           Conv2d-20            [-1, 512, 4, 4]       4,194,304\n",
      "      BatchNorm2d-21            [-1, 512, 4, 4]           1,024\n",
      "        LeakyReLU-22            [-1, 512, 4, 4]               0\n",
      "        Dropout2d-23            [-1, 512, 4, 4]               0\n",
      "           Conv2d-24            [-1, 512, 2, 2]       4,194,304\n",
      "      BatchNorm2d-25            [-1, 512, 2, 2]           1,024\n",
      "        LeakyReLU-26            [-1, 512, 2, 2]               0\n",
      "        Dropout2d-27            [-1, 512, 2, 2]               0\n",
      "           Conv2d-28            [-1, 512, 1, 1]       4,194,304\n",
      "      BatchNorm2d-29            [-1, 512, 1, 1]           1,024\n",
      "        LeakyReLU-30            [-1, 512, 1, 1]               0\n",
      "        Dropout2d-31            [-1, 512, 1, 1]               0\n",
      "           Conv2d-32         [-1, 64, 128, 128]           4,096\n",
      "        LeakyReLU-33         [-1, 64, 128, 128]               0\n",
      "        Dropout2d-34         [-1, 64, 128, 128]               0\n",
      "           Conv2d-35          [-1, 128, 64, 64]         131,072\n",
      "      BatchNorm2d-36          [-1, 128, 64, 64]             256\n",
      "        LeakyReLU-37          [-1, 128, 64, 64]               0\n",
      "        Dropout2d-38          [-1, 128, 64, 64]               0\n",
      "           Conv2d-39          [-1, 256, 32, 32]         524,288\n",
      "      BatchNorm2d-40          [-1, 256, 32, 32]             512\n",
      "        LeakyReLU-41          [-1, 256, 32, 32]               0\n",
      "        Dropout2d-42          [-1, 256, 32, 32]               0\n",
      "           Conv2d-43          [-1, 512, 16, 16]       2,097,152\n",
      "      BatchNorm2d-44          [-1, 512, 16, 16]           1,024\n",
      "        LeakyReLU-45          [-1, 512, 16, 16]               0\n",
      "        Dropout2d-46          [-1, 512, 16, 16]               0\n",
      "           Conv2d-47            [-1, 512, 8, 8]       4,194,304\n",
      "      BatchNorm2d-48            [-1, 512, 8, 8]           1,024\n",
      "        LeakyReLU-49            [-1, 512, 8, 8]               0\n",
      "        Dropout2d-50            [-1, 512, 8, 8]               0\n",
      "           Conv2d-51            [-1, 512, 4, 4]       4,194,304\n",
      "      BatchNorm2d-52            [-1, 512, 4, 4]           1,024\n",
      "        LeakyReLU-53            [-1, 512, 4, 4]               0\n",
      "        Dropout2d-54            [-1, 512, 4, 4]               0\n",
      "           Conv2d-55            [-1, 512, 2, 2]       4,194,304\n",
      "      BatchNorm2d-56            [-1, 512, 2, 2]           1,024\n",
      "        LeakyReLU-57            [-1, 512, 2, 2]               0\n",
      "        Dropout2d-58            [-1, 512, 2, 2]               0\n",
      "           Conv2d-59            [-1, 512, 1, 1]       4,194,304\n",
      "      BatchNorm2d-60            [-1, 512, 1, 1]           1,024\n",
      "        LeakyReLU-61            [-1, 512, 1, 1]               0\n",
      "        Dropout2d-62            [-1, 512, 1, 1]               0\n",
      "  ConvTranspose2d-63            [-1, 512, 2, 2]       8,388,608\n",
      "        LeakyReLU-64            [-1, 512, 2, 2]               0\n",
      "        Dropout2d-65            [-1, 512, 2, 2]               0\n",
      "  ConvTranspose2d-66            [-1, 512, 4, 4]      12,582,912\n",
      "      BatchNorm2d-67            [-1, 512, 4, 4]           1,024\n",
      "        LeakyReLU-68            [-1, 512, 4, 4]               0\n",
      "        Dropout2d-69            [-1, 512, 4, 4]               0\n",
      "  ConvTranspose2d-70            [-1, 512, 8, 8]      12,582,912\n",
      "      BatchNorm2d-71            [-1, 512, 8, 8]           1,024\n",
      "        LeakyReLU-72            [-1, 512, 8, 8]               0\n",
      "        Dropout2d-73            [-1, 512, 8, 8]               0\n",
      "  ConvTranspose2d-74          [-1, 512, 16, 16]      12,582,912\n",
      "      BatchNorm2d-75          [-1, 512, 16, 16]           1,024\n",
      "        LeakyReLU-76          [-1, 512, 16, 16]               0\n",
      "        Dropout2d-77          [-1, 512, 16, 16]               0\n",
      "  ConvTranspose2d-78          [-1, 256, 32, 32]       6,291,456\n",
      "      BatchNorm2d-79          [-1, 256, 32, 32]             512\n",
      "        LeakyReLU-80          [-1, 256, 32, 32]               0\n",
      "        Dropout2d-81          [-1, 256, 32, 32]               0\n",
      "  ConvTranspose2d-82          [-1, 128, 64, 64]       1,572,864\n",
      "      BatchNorm2d-83          [-1, 128, 64, 64]             256\n",
      "        LeakyReLU-84          [-1, 128, 64, 64]               0\n",
      "        Dropout2d-85          [-1, 128, 64, 64]               0\n",
      "  ConvTranspose2d-86         [-1, 64, 128, 128]         393,216\n",
      "      BatchNorm2d-87         [-1, 64, 128, 128]             128\n",
      "        LeakyReLU-88         [-1, 64, 128, 128]               0\n",
      "        Dropout2d-89         [-1, 64, 128, 128]               0\n",
      "  ConvTranspose2d-90          [-1, 4, 256, 256]          12,288\n",
      "      BatchNorm2d-91          [-1, 4, 256, 256]               8\n",
      "             Tanh-92          [-1, 4, 256, 256]               0\n",
      "================================================================\n",
      "Total params: 93,490,568\n",
      "Trainable params: 93,490,568\n",
      "Non-trainable params: 0\n",
      "----------------------------------------------------------------\n",
      "Input size (MB): 0.00\n",
      "Forward/backward pass size (MB): 173.95\n",
      "Params size (MB): 356.64\n",
      "Estimated Total Size (MB): 530.59\n",
      "----------------------------------------------------------------\n",
      "Discriminator Network\n",
      "----------------------------------------------------------------\n",
      "----------------------------------------------------------------\n",
      "        Layer (type)               Output Shape         Param #\n",
      "================================================================\n",
      "            Conv2d-1         [-1, 32, 128, 128]           6,144\n",
      "         LeakyReLU-2         [-1, 32, 128, 128]               0\n",
      "         Dropout2d-3         [-1, 32, 128, 128]               0\n",
      "            Conv2d-4           [-1, 64, 64, 64]          32,768\n",
      "         LeakyReLU-5           [-1, 64, 64, 64]               0\n",
      "         Dropout2d-6           [-1, 64, 64, 64]               0\n",
      "            Conv2d-7          [-1, 128, 32, 32]         131,072\n",
      "         LeakyReLU-8          [-1, 128, 32, 32]               0\n",
      "         Dropout2d-9          [-1, 128, 32, 32]               0\n",
      "           Conv2d-10          [-1, 256, 31, 31]         524,288\n",
      "        LeakyReLU-11          [-1, 256, 31, 31]               0\n",
      "        Dropout2d-12          [-1, 256, 31, 31]               0\n",
      "           Conv2d-13            [-1, 1, 30, 30]           4,096\n",
      "================================================================\n",
      "Total params: 698,368\n",
      "Trainable params: 698,368\n",
      "Non-trainable params: 0\n",
      "----------------------------------------------------------------\n",
      "Input size (MB): 3.00\n",
      "Forward/backward pass size (MB): 26.64\n",
      "Params size (MB): 2.66\n",
      "Estimated Total Size (MB): 32.30\n",
      "----------------------------------------------------------------\n",
      "----------------------------------------------------------------\n",
      "Epoch:  1/20\n",
      "G LR = 0.0005000\n",
      "D LR = 0.0005000\n"
     ]
    },
    {
     "name": "stderr",
     "output_type": "stream",
     "text": [
      "Training:  20%|█████████████▏                                                    | 416/2080 [01:40<06:44,  4.12batch/s]"
     ]
    },
    {
     "name": "stdout",
     "output_type": "stream",
     "text": [
      "G.Loss = 8.9372.  D.Loss = 0.0940"
     ]
    },
    {
     "name": "stderr",
     "output_type": "stream",
     "text": [
      "Training:  40%|██████████████████████████▍                                       | 832/2080 [03:20<04:59,  4.16batch/s]"
     ]
    },
    {
     "name": "stdout",
     "output_type": "stream",
     "text": [
      "G.Loss = 10.1636.  D.Loss = 0.1225"
     ]
    },
    {
     "name": "stderr",
     "output_type": "stream",
     "text": [
      "Training:  60%|███████████████████████████████████████                          | 1248/2080 [05:00<03:17,  4.22batch/s]"
     ]
    },
    {
     "name": "stdout",
     "output_type": "stream",
     "text": [
      "G.Loss = 8.3970.  D.Loss = 0.1398"
     ]
    },
    {
     "name": "stderr",
     "output_type": "stream",
     "text": [
      "Training:  80%|████████████████████████████████████████████████████             | 1664/2080 [06:40<01:39,  4.17batch/s]"
     ]
    },
    {
     "name": "stdout",
     "output_type": "stream",
     "text": [
      "G.Loss = 7.3429.  D.Loss = 0.1814"
     ]
    },
    {
     "name": "stderr",
     "output_type": "stream",
     "text": [
      "Training: 100%|█████████████████████████████████████████████████████████████████| 2080/2080 [08:20<00:00,  4.16batch/s]\n"
     ]
    },
    {
     "name": "stdout",
     "output_type": "stream",
     "text": [
      "G.Loss = 5.4590.  D.Loss = 0.2637\n",
      "Generator Training Loss = 8.0599.  Discriminator Training Loss = 0.1603\n",
      "Time Elapsed = 500.27 s\n"
     ]
    },
    {
     "name": "stderr",
     "output_type": "stream",
     "text": [
      "\r",
      "Training:   0%|                                                                            | 0/2080 [00:00<?, ?batch/s]"
     ]
    },
    {
     "name": "stdout",
     "output_type": "stream",
     "text": [
      "\n",
      "Validation Loss = 6.0305\tBest Validation Loss = 6.0305\n",
      "\n",
      "----------------------------------------------------------------\n",
      "Epoch:  2/20\n",
      "G LR = 0.0005000\n",
      "D LR = 0.0005000\n"
     ]
    },
    {
     "name": "stderr",
     "output_type": "stream",
     "text": [
      "Training:  20%|█████████████▏                                                    | 416/2080 [01:39<06:39,  4.17batch/s]"
     ]
    },
    {
     "name": "stdout",
     "output_type": "stream",
     "text": [
      "G.Loss = 4.9029.  D.Loss = 0.2995"
     ]
    },
    {
     "name": "stderr",
     "output_type": "stream",
     "text": [
      "Training:  40%|██████████████████████████▍                                       | 832/2080 [03:19<05:05,  4.09batch/s]"
     ]
    },
    {
     "name": "stdout",
     "output_type": "stream",
     "text": [
      "G.Loss = 4.0958.  D.Loss = 0.3451"
     ]
    },
    {
     "name": "stderr",
     "output_type": "stream",
     "text": [
      "Training:  60%|███████████████████████████████████████                          | 1248/2080 [04:59<03:19,  4.16batch/s]"
     ]
    },
    {
     "name": "stdout",
     "output_type": "stream",
     "text": [
      "G.Loss = 3.5245.  D.Loss = 0.4006"
     ]
    },
    {
     "name": "stderr",
     "output_type": "stream",
     "text": [
      "Training:  80%|████████████████████████████████████████████████████             | 1664/2080 [06:39<01:39,  4.18batch/s]"
     ]
    },
    {
     "name": "stdout",
     "output_type": "stream",
     "text": [
      "G.Loss = 3.3343.  D.Loss = 0.4453"
     ]
    },
    {
     "name": "stderr",
     "output_type": "stream",
     "text": [
      "Training: 100%|█████████████████████████████████████████████████████████████████| 2080/2080 [08:19<00:00,  4.16batch/s]\n"
     ]
    },
    {
     "name": "stdout",
     "output_type": "stream",
     "text": [
      "G.Loss = 3.1141.  D.Loss = 0.4733\n",
      "Generator Training Loss = 3.7943.  Discriminator Training Loss = 0.3927\n",
      "Time Elapsed = 499.50 s\n"
     ]
    },
    {
     "name": "stderr",
     "output_type": "stream",
     "text": [
      "\r",
      "Training:   0%|                                                                            | 0/2080 [00:00<?, ?batch/s]"
     ]
    },
    {
     "name": "stdout",
     "output_type": "stream",
     "text": [
      "\n",
      "Validation Loss = 2.8348\tBest Validation Loss = 2.8348\n",
      "\n",
      "----------------------------------------------------------------\n",
      "Epoch:  3/20\n",
      "G LR = 0.0005000\n",
      "D LR = 0.0005000\n"
     ]
    },
    {
     "name": "stderr",
     "output_type": "stream",
     "text": [
      "Training:  20%|█████████████▏                                                    | 416/2080 [01:39<06:37,  4.18batch/s]"
     ]
    },
    {
     "name": "stdout",
     "output_type": "stream",
     "text": [
      "G.Loss = 2.9358.  D.Loss = 0.4932"
     ]
    },
    {
     "name": "stderr",
     "output_type": "stream",
     "text": [
      "Training:  40%|██████████████████████████▍                                       | 832/2080 [03:19<04:59,  4.17batch/s]"
     ]
    },
    {
     "name": "stdout",
     "output_type": "stream",
     "text": [
      "G.Loss = 2.7449.  D.Loss = 0.5095"
     ]
    },
    {
     "name": "stderr",
     "output_type": "stream",
     "text": [
      "Training:  60%|███████████████████████████████████████                          | 1248/2080 [04:58<03:23,  4.09batch/s]"
     ]
    },
    {
     "name": "stdout",
     "output_type": "stream",
     "text": [
      "G.Loss = 2.2119.  D.Loss = 0.5575"
     ]
    },
    {
     "name": "stderr",
     "output_type": "stream",
     "text": [
      "Training:  80%|████████████████████████████████████████████████████             | 1664/2080 [06:38<01:39,  4.17batch/s]"
     ]
    },
    {
     "name": "stdout",
     "output_type": "stream",
     "text": [
      "G.Loss = 2.0699.  D.Loss = 0.5740"
     ]
    },
    {
     "name": "stderr",
     "output_type": "stream",
     "text": [
      "Training: 100%|█████████████████████████████████████████████████████████████████| 2080/2080 [08:18<00:00,  4.17batch/s]\n"
     ]
    },
    {
     "name": "stdout",
     "output_type": "stream",
     "text": [
      "G.Loss = 1.9806.  D.Loss = 0.5894\n",
      "Generator Training Loss = 2.3886.  Discriminator Training Loss = 0.5447\n",
      "Time Elapsed = 498.31 s\n"
     ]
    },
    {
     "name": "stderr",
     "output_type": "stream",
     "text": [
      "\r",
      "Training:   0%|                                                                            | 0/2080 [00:00<?, ?batch/s]"
     ]
    },
    {
     "name": "stdout",
     "output_type": "stream",
     "text": [
      "\n",
      "Validation Loss = 1.8246\tBest Validation Loss = 1.8246\n",
      "\n",
      "----------------------------------------------------------------\n",
      "Epoch:  4/20\n",
      "G LR = 0.0005000\n",
      "D LR = 0.0005000\n"
     ]
    },
    {
     "name": "stderr",
     "output_type": "stream",
     "text": [
      "Training:  20%|█████████████▏                                                    | 416/2080 [01:39<06:39,  4.17batch/s]"
     ]
    },
    {
     "name": "stdout",
     "output_type": "stream",
     "text": [
      "G.Loss = 1.8771.  D.Loss = 0.6012"
     ]
    },
    {
     "name": "stderr",
     "output_type": "stream",
     "text": [
      "Training:  40%|██████████████████████████▍                                       | 832/2080 [03:19<05:00,  4.16batch/s]"
     ]
    },
    {
     "name": "stdout",
     "output_type": "stream",
     "text": [
      "G.Loss = 1.7865.  D.Loss = 0.6079"
     ]
    },
    {
     "name": "stderr",
     "output_type": "stream",
     "text": [
      "Training:  60%|███████████████████████████████████████                          | 1248/2080 [04:59<03:19,  4.17batch/s]"
     ]
    },
    {
     "name": "stdout",
     "output_type": "stream",
     "text": [
      "G.Loss = 1.7773.  D.Loss = 0.6103"
     ]
    },
    {
     "name": "stderr",
     "output_type": "stream",
     "text": [
      "Training:  80%|████████████████████████████████████████████████████             | 1664/2080 [06:38<01:39,  4.18batch/s]"
     ]
    },
    {
     "name": "stdout",
     "output_type": "stream",
     "text": [
      "G.Loss = 1.7278.  D.Loss = 0.6148"
     ]
    },
    {
     "name": "stderr",
     "output_type": "stream",
     "text": [
      "Training: 100%|█████████████████████████████████████████████████████████████████| 2080/2080 [08:18<00:00,  4.17batch/s]\n"
     ]
    },
    {
     "name": "stdout",
     "output_type": "stream",
     "text": [
      "G.Loss = 1.6939.  D.Loss = 0.6128\n",
      "Generator Training Loss = 1.7725.  Discriminator Training Loss = 0.6094\n",
      "Time Elapsed = 498.62 s\n"
     ]
    },
    {
     "name": "stderr",
     "output_type": "stream",
     "text": [
      "\r",
      "Training:   0%|                                                                            | 0/2080 [00:00<?, ?batch/s]"
     ]
    },
    {
     "name": "stdout",
     "output_type": "stream",
     "text": [
      "\n",
      "Validation Loss = 1.5940\tBest Validation Loss = 1.5940\n",
      "\n",
      "----------------------------------------------------------------\n",
      "Epoch:  5/20\n",
      "G LR = 0.0005000\n",
      "D LR = 0.0005000\n"
     ]
    },
    {
     "name": "stderr",
     "output_type": "stream",
     "text": [
      "Training:  20%|█████████████▏                                                    | 416/2080 [01:39<06:37,  4.18batch/s]"
     ]
    },
    {
     "name": "stdout",
     "output_type": "stream",
     "text": [
      "G.Loss = 1.6431.  D.Loss = 0.6096"
     ]
    },
    {
     "name": "stderr",
     "output_type": "stream",
     "text": [
      "Training:  40%|██████████████████████████▍                                       | 832/2080 [03:19<04:59,  4.17batch/s]"
     ]
    },
    {
     "name": "stdout",
     "output_type": "stream",
     "text": [
      "G.Loss = 1.4554.  D.Loss = 0.6067"
     ]
    },
    {
     "name": "stderr",
     "output_type": "stream",
     "text": [
      "Training:  60%|███████████████████████████████████████                          | 1248/2080 [04:58<03:21,  4.14batch/s]"
     ]
    },
    {
     "name": "stdout",
     "output_type": "stream",
     "text": [
      "G.Loss = 1.3443.  D.Loss = 0.6046"
     ]
    },
    {
     "name": "stderr",
     "output_type": "stream",
     "text": [
      "Training:  80%|████████████████████████████████████████████████████             | 1664/2080 [06:38<01:39,  4.18batch/s]"
     ]
    },
    {
     "name": "stdout",
     "output_type": "stream",
     "text": [
      "G.Loss = 1.4725.  D.Loss = 0.6024"
     ]
    },
    {
     "name": "stderr",
     "output_type": "stream",
     "text": [
      "Training: 100%|█████████████████████████████████████████████████████████████████| 2080/2080 [08:18<00:00,  4.17batch/s]\n"
     ]
    },
    {
     "name": "stdout",
     "output_type": "stream",
     "text": [
      "G.Loss = 1.4565.  D.Loss = 0.6043\n",
      "Generator Training Loss = 1.4744.  Discriminator Training Loss = 0.6055\n",
      "Time Elapsed = 498.55 s\n"
     ]
    },
    {
     "name": "stderr",
     "output_type": "stream",
     "text": [
      "\r",
      "Training:   0%|                                                                            | 0/2080 [00:00<?, ?batch/s]"
     ]
    },
    {
     "name": "stdout",
     "output_type": "stream",
     "text": [
      "\n",
      "Validation Loss = 1.4702\tBest Validation Loss = 1.4702\n",
      "\n",
      "----------------------------------------------------------------\n",
      "Epoch:  6/20\n",
      "G LR = 0.0005000\n",
      "D LR = 0.0005000\n"
     ]
    },
    {
     "name": "stderr",
     "output_type": "stream",
     "text": [
      "Training:  20%|█████████████▏                                                    | 416/2080 [01:39<06:39,  4.16batch/s]"
     ]
    },
    {
     "name": "stdout",
     "output_type": "stream",
     "text": [
      "G.Loss = 1.5695.  D.Loss = 0.5985"
     ]
    },
    {
     "name": "stderr",
     "output_type": "stream",
     "text": [
      "Training:  40%|██████████████████████████▍                                       | 832/2080 [03:19<04:59,  4.16batch/s]"
     ]
    },
    {
     "name": "stdout",
     "output_type": "stream",
     "text": [
      "G.Loss = 1.6289.  D.Loss = 0.5955"
     ]
    },
    {
     "name": "stderr",
     "output_type": "stream",
     "text": [
      "Training:  60%|███████████████████████████████████████                          | 1248/2080 [04:59<03:20,  4.16batch/s]"
     ]
    },
    {
     "name": "stdout",
     "output_type": "stream",
     "text": [
      "G.Loss = 1.7368.  D.Loss = 0.5926"
     ]
    },
    {
     "name": "stderr",
     "output_type": "stream",
     "text": [
      "Training:  80%|████████████████████████████████████████████████████             | 1664/2080 [06:39<01:39,  4.19batch/s]"
     ]
    },
    {
     "name": "stdout",
     "output_type": "stream",
     "text": [
      "G.Loss = 1.8482.  D.Loss = 0.5864"
     ]
    },
    {
     "name": "stderr",
     "output_type": "stream",
     "text": [
      "Training: 100%|█████████████████████████████████████████████████████████████████| 2080/2080 [08:18<00:00,  4.17batch/s]\n"
     ]
    },
    {
     "name": "stdout",
     "output_type": "stream",
     "text": [
      "G.Loss = 1.9121.  D.Loss = 0.5890\n",
      "Generator Training Loss = 1.7391.  Discriminator Training Loss = 0.5924\n",
      "Time Elapsed = 498.65 s\n"
     ]
    },
    {
     "name": "stderr",
     "output_type": "stream",
     "text": [
      "\r",
      "Training:   0%|                                                                            | 0/2080 [00:00<?, ?batch/s]"
     ]
    },
    {
     "name": "stdout",
     "output_type": "stream",
     "text": [
      "\n",
      "Validation Loss = 1.9910\tBest Validation Loss = 1.4702\n",
      "\n",
      "----------------------------------------------------------------\n",
      "Epoch:  7/20\n",
      "G LR = 0.0005000\n",
      "D LR = 0.0005000\n"
     ]
    },
    {
     "name": "stderr",
     "output_type": "stream",
     "text": [
      "Training:  20%|█████████████▏                                                    | 416/2080 [01:39<06:44,  4.12batch/s]"
     ]
    },
    {
     "name": "stdout",
     "output_type": "stream",
     "text": [
      "G.Loss = 1.9368.  D.Loss = 0.5878"
     ]
    },
    {
     "name": "stderr",
     "output_type": "stream",
     "text": [
      "Training:  40%|██████████████████████████▍                                       | 832/2080 [03:18<04:58,  4.18batch/s]"
     ]
    },
    {
     "name": "stdout",
     "output_type": "stream",
     "text": [
      "G.Loss = 1.5404.  D.Loss = 0.6232"
     ]
    },
    {
     "name": "stderr",
     "output_type": "stream",
     "text": [
      "Training:  60%|███████████████████████████████████████                          | 1248/2080 [04:58<03:19,  4.18batch/s]"
     ]
    },
    {
     "name": "stdout",
     "output_type": "stream",
     "text": [
      "G.Loss = 0.8218.  D.Loss = 0.6699"
     ]
    },
    {
     "name": "stderr",
     "output_type": "stream",
     "text": [
      "Training:  80%|████████████████████████████████████████████████████             | 1664/2080 [06:37<01:39,  4.18batch/s]"
     ]
    },
    {
     "name": "stdout",
     "output_type": "stream",
     "text": [
      "G.Loss = 0.7941.  D.Loss = 0.6752"
     ]
    },
    {
     "name": "stderr",
     "output_type": "stream",
     "text": [
      "Training: 100%|█████████████████████████████████████████████████████████████████| 2080/2080 [08:17<00:00,  4.18batch/s]\n"
     ]
    },
    {
     "name": "stdout",
     "output_type": "stream",
     "text": [
      "G.Loss = 0.7785.  D.Loss = 0.6745\n",
      "Generator Training Loss = 1.1743.  Discriminator Training Loss = 0.6461\n",
      "Time Elapsed = 497.27 s\n"
     ]
    },
    {
     "name": "stderr",
     "output_type": "stream",
     "text": [
      "\r",
      "Training:   0%|                                                                            | 0/2080 [00:00<?, ?batch/s]"
     ]
    },
    {
     "name": "stdout",
     "output_type": "stream",
     "text": [
      "\n",
      "Validation Loss = 0.6947\tBest Validation Loss = 0.6947\n",
      "\n",
      "----------------------------------------------------------------\n",
      "Epoch:  8/20\n",
      "G LR = 0.0005000\n",
      "D LR = 0.0005000\n"
     ]
    },
    {
     "name": "stderr",
     "output_type": "stream",
     "text": [
      "Training:  20%|█████████████▏                                                    | 416/2080 [01:39<06:38,  4.18batch/s]"
     ]
    },
    {
     "name": "stdout",
     "output_type": "stream",
     "text": [
      "G.Loss = 0.7594.  D.Loss = 0.6779"
     ]
    },
    {
     "name": "stderr",
     "output_type": "stream",
     "text": [
      "Training:  40%|██████████████████████████▍                                       | 832/2080 [03:18<04:57,  4.19batch/s]"
     ]
    },
    {
     "name": "stdout",
     "output_type": "stream",
     "text": [
      "G.Loss = 0.7715.  D.Loss = 0.6734"
     ]
    },
    {
     "name": "stderr",
     "output_type": "stream",
     "text": [
      "Training:  60%|███████████████████████████████████████                          | 1248/2080 [04:57<03:18,  4.19batch/s]"
     ]
    },
    {
     "name": "stdout",
     "output_type": "stream",
     "text": [
      "G.Loss = 0.7771.  D.Loss = 0.6782"
     ]
    },
    {
     "name": "stderr",
     "output_type": "stream",
     "text": [
      "Training:  80%|████████████████████████████████████████████████████             | 1664/2080 [06:37<01:39,  4.19batch/s]"
     ]
    },
    {
     "name": "stdout",
     "output_type": "stream",
     "text": [
      "G.Loss = 0.7496.  D.Loss = 0.6770"
     ]
    },
    {
     "name": "stderr",
     "output_type": "stream",
     "text": [
      "Training: 100%|█████████████████████████████████████████████████████████████████| 2080/2080 [08:18<00:00,  4.17batch/s]\n"
     ]
    },
    {
     "name": "stdout",
     "output_type": "stream",
     "text": [
      "G.Loss = 0.7587.  D.Loss = 0.6763\n",
      "Generator Training Loss = 0.7633.  Discriminator Training Loss = 0.6766\n",
      "Time Elapsed = 498.36 s\n"
     ]
    },
    {
     "name": "stderr",
     "output_type": "stream",
     "text": [
      "\r",
      "Training:   0%|                                                                            | 0/2080 [00:00<?, ?batch/s]"
     ]
    },
    {
     "name": "stdout",
     "output_type": "stream",
     "text": [
      "\n",
      "Validation Loss = 0.6970\tBest Validation Loss = 0.6947\n",
      "\n",
      "----------------------------------------------------------------\n",
      "Epoch:  9/20\n",
      "G LR = 0.0005000\n",
      "D LR = 0.0005000\n"
     ]
    },
    {
     "name": "stderr",
     "output_type": "stream",
     "text": [
      "Training:  20%|█████████████▏                                                    | 416/2080 [01:40<06:44,  4.11batch/s]"
     ]
    },
    {
     "name": "stdout",
     "output_type": "stream",
     "text": [
      "G.Loss = 0.7510.  D.Loss = 0.6808"
     ]
    },
    {
     "name": "stderr",
     "output_type": "stream",
     "text": [
      "Training:  40%|██████████████████████████▍                                       | 832/2080 [03:21<05:00,  4.15batch/s]"
     ]
    },
    {
     "name": "stdout",
     "output_type": "stream",
     "text": [
      "G.Loss = 0.7408.  D.Loss = 0.6821"
     ]
    },
    {
     "name": "stderr",
     "output_type": "stream",
     "text": [
      "Training:  60%|███████████████████████████████████████                          | 1248/2080 [05:01<03:26,  4.03batch/s]"
     ]
    },
    {
     "name": "stdout",
     "output_type": "stream",
     "text": [
      "G.Loss = 0.7543.  D.Loss = 0.6785"
     ]
    },
    {
     "name": "stderr",
     "output_type": "stream",
     "text": [
      "Training:  80%|████████████████████████████████████████████████████             | 1664/2080 [06:42<01:40,  4.14batch/s]"
     ]
    },
    {
     "name": "stdout",
     "output_type": "stream",
     "text": [
      "G.Loss = 0.7342.  D.Loss = 0.6814"
     ]
    },
    {
     "name": "stderr",
     "output_type": "stream",
     "text": [
      "Training: 100%|█████████████████████████████████████████████████████████████████| 2080/2080 [08:23<00:00,  4.13batch/s]\n"
     ]
    },
    {
     "name": "stdout",
     "output_type": "stream",
     "text": [
      "G.Loss = 0.7417.  D.Loss = 0.6832\n",
      "Generator Training Loss = 0.7444.  Discriminator Training Loss = 0.6812\n",
      "Time Elapsed = 503.10 s\n"
     ]
    },
    {
     "name": "stderr",
     "output_type": "stream",
     "text": [
      "\r",
      "Training:   0%|                                                                            | 0/2080 [00:00<?, ?batch/s]"
     ]
    },
    {
     "name": "stdout",
     "output_type": "stream",
     "text": [
      "\n",
      "Validation Loss = 0.6439\tBest Validation Loss = 0.6439\n",
      "\n",
      "----------------------------------------------------------------\n",
      "Epoch:  10/20\n",
      "G LR = 0.0005000\n",
      "D LR = 0.0005000\n"
     ]
    },
    {
     "name": "stderr",
     "output_type": "stream",
     "text": [
      "Training:  20%|█████████████▏                                                    | 416/2080 [01:40<06:54,  4.01batch/s]"
     ]
    },
    {
     "name": "stdout",
     "output_type": "stream",
     "text": [
      "G.Loss = 0.7278.  D.Loss = 0.6831"
     ]
    },
    {
     "name": "stderr",
     "output_type": "stream",
     "text": [
      "Training:  40%|██████████████████████████▍                                       | 832/2080 [03:21<05:06,  4.07batch/s]"
     ]
    },
    {
     "name": "stdout",
     "output_type": "stream",
     "text": [
      "G.Loss = 0.7546.  D.Loss = 0.6845"
     ]
    },
    {
     "name": "stderr",
     "output_type": "stream",
     "text": [
      "Training:  60%|███████████████████████████████████████                          | 1248/2080 [05:02<03:20,  4.15batch/s]"
     ]
    },
    {
     "name": "stdout",
     "output_type": "stream",
     "text": [
      "G.Loss = 0.7375.  D.Loss = 0.6842"
     ]
    },
    {
     "name": "stderr",
     "output_type": "stream",
     "text": [
      "Training:  80%|████████████████████████████████████████████████████             | 1664/2080 [06:42<01:40,  4.15batch/s]"
     ]
    },
    {
     "name": "stdout",
     "output_type": "stream",
     "text": [
      "G.Loss = 0.7167.  D.Loss = 0.6850"
     ]
    },
    {
     "name": "stderr",
     "output_type": "stream",
     "text": [
      "Training: 100%|█████████████████████████████████████████████████████████████████| 2080/2080 [08:22<00:00,  4.14batch/s]\n"
     ]
    },
    {
     "name": "stdout",
     "output_type": "stream",
     "text": [
      "G.Loss = 0.7424.  D.Loss = 0.6855\n",
      "Generator Training Loss = 0.7358.  Discriminator Training Loss = 0.6845\n",
      "Time Elapsed = 502.76 s\n"
     ]
    },
    {
     "name": "stderr",
     "output_type": "stream",
     "text": [
      "\r",
      "Training:   0%|                                                                            | 0/2080 [00:00<?, ?batch/s]"
     ]
    },
    {
     "name": "stdout",
     "output_type": "stream",
     "text": [
      "\n",
      "Validation Loss = 0.6987\tBest Validation Loss = 0.6439\n",
      "\n",
      "----------------------------------------------------------------\n",
      "Epoch:  11/20\n",
      "G LR = 0.0004500\n",
      "D LR = 0.0004500\n"
     ]
    },
    {
     "name": "stderr",
     "output_type": "stream",
     "text": [
      "Training:  20%|█████████████▏                                                    | 416/2080 [01:41<06:41,  4.15batch/s]"
     ]
    },
    {
     "name": "stdout",
     "output_type": "stream",
     "text": [
      "G.Loss = 0.7324.  D.Loss = 0.6830"
     ]
    },
    {
     "name": "stderr",
     "output_type": "stream",
     "text": [
      "Training:  40%|██████████████████████████▍                                       | 832/2080 [03:21<05:04,  4.10batch/s]"
     ]
    },
    {
     "name": "stdout",
     "output_type": "stream",
     "text": [
      "G.Loss = 0.7321.  D.Loss = 0.6850"
     ]
    },
    {
     "name": "stderr",
     "output_type": "stream",
     "text": [
      "Training:  60%|███████████████████████████████████████                          | 1248/2080 [05:02<03:21,  4.14batch/s]"
     ]
    },
    {
     "name": "stdout",
     "output_type": "stream",
     "text": [
      "G.Loss = 0.7279.  D.Loss = 0.6854"
     ]
    },
    {
     "name": "stderr",
     "output_type": "stream",
     "text": [
      "Training:  80%|████████████████████████████████████████████████████             | 1664/2080 [06:43<01:41,  4.12batch/s]"
     ]
    },
    {
     "name": "stdout",
     "output_type": "stream",
     "text": [
      "G.Loss = 0.7196.  D.Loss = 0.6852"
     ]
    },
    {
     "name": "stderr",
     "output_type": "stream",
     "text": [
      "Training: 100%|█████████████████████████████████████████████████████████████████| 2080/2080 [08:24<00:00,  4.13batch/s]\n"
     ]
    },
    {
     "name": "stdout",
     "output_type": "stream",
     "text": [
      "G.Loss = 0.7365.  D.Loss = 0.6859\n",
      "Generator Training Loss = 0.7297.  Discriminator Training Loss = 0.6849\n",
      "Time Elapsed = 504.05 s\n"
     ]
    },
    {
     "name": "stderr",
     "output_type": "stream",
     "text": [
      "\r",
      "Training:   0%|                                                                            | 0/2080 [00:00<?, ?batch/s]"
     ]
    },
    {
     "name": "stdout",
     "output_type": "stream",
     "text": [
      "\n",
      "Validation Loss = 0.7307\tBest Validation Loss = 0.6439\n",
      "\n",
      "----------------------------------------------------------------\n",
      "Epoch:  12/20\n",
      "G LR = 0.0004050\n",
      "D LR = 0.0004050\n"
     ]
    },
    {
     "name": "stderr",
     "output_type": "stream",
     "text": [
      "Training:  20%|█████████████▏                                                    | 416/2080 [01:40<06:40,  4.15batch/s]"
     ]
    },
    {
     "name": "stdout",
     "output_type": "stream",
     "text": [
      "G.Loss = 0.7347.  D.Loss = 0.6851"
     ]
    },
    {
     "name": "stderr",
     "output_type": "stream",
     "text": [
      "Training:  40%|██████████████████████████▍                                       | 832/2080 [03:21<05:01,  4.14batch/s]"
     ]
    },
    {
     "name": "stdout",
     "output_type": "stream",
     "text": [
      "G.Loss = 0.7221.  D.Loss = 0.6867"
     ]
    },
    {
     "name": "stderr",
     "output_type": "stream",
     "text": [
      "Training:  60%|███████████████████████████████████████                          | 1248/2080 [05:01<03:21,  4.13batch/s]"
     ]
    },
    {
     "name": "stdout",
     "output_type": "stream",
     "text": [
      "G.Loss = 0.7228.  D.Loss = 0.6853"
     ]
    },
    {
     "name": "stderr",
     "output_type": "stream",
     "text": [
      "Training:  80%|████████████████████████████████████████████████████             | 1664/2080 [06:42<01:41,  4.09batch/s]"
     ]
    },
    {
     "name": "stdout",
     "output_type": "stream",
     "text": [
      "G.Loss = 0.7101.  D.Loss = 0.6859"
     ]
    },
    {
     "name": "stderr",
     "output_type": "stream",
     "text": [
      "Training: 100%|█████████████████████████████████████████████████████████████████| 2080/2080 [08:22<00:00,  4.14batch/s]\n"
     ]
    },
    {
     "name": "stdout",
     "output_type": "stream",
     "text": [
      "G.Loss = 0.7286.  D.Loss = 0.6862\n",
      "Generator Training Loss = 0.7237.  Discriminator Training Loss = 0.6858\n",
      "Time Elapsed = 502.53 s\n"
     ]
    },
    {
     "name": "stderr",
     "output_type": "stream",
     "text": [
      "\r",
      "Training:   0%|                                                                            | 0/2080 [00:00<?, ?batch/s]"
     ]
    },
    {
     "name": "stdout",
     "output_type": "stream",
     "text": [
      "\n",
      "Validation Loss = 0.6898\tBest Validation Loss = 0.6439\n",
      "\n",
      "----------------------------------------------------------------\n",
      "Epoch:  13/20\n",
      "G LR = 0.0003645\n",
      "D LR = 0.0003645\n"
     ]
    },
    {
     "name": "stderr",
     "output_type": "stream",
     "text": [
      "Training:  20%|█████████████▏                                                    | 416/2080 [01:40<06:44,  4.11batch/s]"
     ]
    },
    {
     "name": "stdout",
     "output_type": "stream",
     "text": [
      "G.Loss = 0.7300.  D.Loss = 0.6859"
     ]
    },
    {
     "name": "stderr",
     "output_type": "stream",
     "text": [
      "Training:  40%|██████████████████████████▍                                       | 832/2080 [03:20<05:00,  4.15batch/s]"
     ]
    },
    {
     "name": "stdout",
     "output_type": "stream",
     "text": [
      "G.Loss = 0.7239.  D.Loss = 0.6858"
     ]
    },
    {
     "name": "stderr",
     "output_type": "stream",
     "text": [
      "Training:  60%|███████████████████████████████████████                          | 1248/2080 [05:00<03:21,  4.13batch/s]"
     ]
    },
    {
     "name": "stdout",
     "output_type": "stream",
     "text": [
      "G.Loss = 0.7071.  D.Loss = 0.6890"
     ]
    },
    {
     "name": "stderr",
     "output_type": "stream",
     "text": [
      "Training:  80%|████████████████████████████████████████████████████             | 1664/2080 [06:40<01:40,  4.15batch/s]"
     ]
    },
    {
     "name": "stdout",
     "output_type": "stream",
     "text": [
      "G.Loss = 0.7113.  D.Loss = 0.6865"
     ]
    },
    {
     "name": "stderr",
     "output_type": "stream",
     "text": [
      "Training: 100%|█████████████████████████████████████████████████████████████████| 2080/2080 [08:20<00:00,  4.16batch/s]\n"
     ]
    },
    {
     "name": "stdout",
     "output_type": "stream",
     "text": [
      "G.Loss = 0.7216.  D.Loss = 0.6881\n",
      "Generator Training Loss = 0.7188.  Discriminator Training Loss = 0.6871\n",
      "Time Elapsed = 500.45 s\n"
     ]
    },
    {
     "name": "stderr",
     "output_type": "stream",
     "text": [
      "\r",
      "Training:   0%|                                                                            | 0/2080 [00:00<?, ?batch/s]"
     ]
    },
    {
     "name": "stdout",
     "output_type": "stream",
     "text": [
      "\n",
      "Validation Loss = 0.6998\tBest Validation Loss = 0.6439\n",
      "\n",
      "----------------------------------------------------------------\n",
      "Epoch:  14/20\n",
      "G LR = 0.0003281\n",
      "D LR = 0.0003281\n"
     ]
    },
    {
     "name": "stderr",
     "output_type": "stream",
     "text": [
      "Training:  20%|█████████████▏                                                    | 416/2080 [01:40<06:43,  4.12batch/s]"
     ]
    },
    {
     "name": "stdout",
     "output_type": "stream",
     "text": [
      "G.Loss = 0.7193.  D.Loss = 0.6868"
     ]
    },
    {
     "name": "stderr",
     "output_type": "stream",
     "text": [
      "Training:  40%|██████████████████████████▍                                       | 832/2080 [03:20<05:00,  4.16batch/s]"
     ]
    },
    {
     "name": "stdout",
     "output_type": "stream",
     "text": [
      "G.Loss = 0.7166.  D.Loss = 0.6883"
     ]
    },
    {
     "name": "stderr",
     "output_type": "stream",
     "text": [
      "Training:  60%|███████████████████████████████████████                          | 1248/2080 [05:00<03:20,  4.16batch/s]"
     ]
    },
    {
     "name": "stdout",
     "output_type": "stream",
     "text": [
      "G.Loss = 0.7249.  D.Loss = 0.6857"
     ]
    },
    {
     "name": "stderr",
     "output_type": "stream",
     "text": [
      "Training:  80%|████████████████████████████████████████████████████             | 1664/2080 [06:40<01:40,  4.16batch/s]"
     ]
    },
    {
     "name": "stdout",
     "output_type": "stream",
     "text": [
      "G.Loss = 0.7153.  D.Loss = 0.6872"
     ]
    },
    {
     "name": "stderr",
     "output_type": "stream",
     "text": [
      "Training: 100%|█████████████████████████████████████████████████████████████████| 2080/2080 [08:20<00:00,  4.15batch/s]\n"
     ]
    },
    {
     "name": "stdout",
     "output_type": "stream",
     "text": [
      "G.Loss = 0.7192.  D.Loss = 0.6875\n",
      "Generator Training Loss = 0.7191.  Discriminator Training Loss = 0.6871\n",
      "Time Elapsed = 500.93 s\n"
     ]
    },
    {
     "name": "stderr",
     "output_type": "stream",
     "text": [
      "\r",
      "Training:   0%|                                                                            | 0/2080 [00:00<?, ?batch/s]"
     ]
    },
    {
     "name": "stdout",
     "output_type": "stream",
     "text": [
      "\n",
      "Validation Loss = 0.6837\tBest Validation Loss = 0.6439\n",
      "\n",
      "----------------------------------------------------------------\n",
      "Epoch:  15/20\n",
      "G LR = 0.0002952\n",
      "D LR = 0.0002952\n"
     ]
    },
    {
     "name": "stderr",
     "output_type": "stream",
     "text": [
      "Training:  20%|█████████████▏                                                    | 416/2080 [01:40<06:38,  4.18batch/s]"
     ]
    },
    {
     "name": "stdout",
     "output_type": "stream",
     "text": [
      "G.Loss = 0.7130.  D.Loss = 0.6880"
     ]
    },
    {
     "name": "stderr",
     "output_type": "stream",
     "text": [
      "Training:  40%|██████████████████████████▍                                       | 832/2080 [03:20<05:00,  4.15batch/s]"
     ]
    },
    {
     "name": "stdout",
     "output_type": "stream",
     "text": [
      "G.Loss = 0.7135.  D.Loss = 0.6886"
     ]
    },
    {
     "name": "stderr",
     "output_type": "stream",
     "text": [
      "Training:  60%|███████████████████████████████████████                          | 1248/2080 [05:00<03:21,  4.14batch/s]"
     ]
    },
    {
     "name": "stdout",
     "output_type": "stream",
     "text": [
      "G.Loss = 0.7017.  D.Loss = 0.6868"
     ]
    },
    {
     "name": "stderr",
     "output_type": "stream",
     "text": [
      "Training:  80%|████████████████████████████████████████████████████             | 1664/2080 [06:41<01:42,  4.08batch/s]"
     ]
    },
    {
     "name": "stdout",
     "output_type": "stream",
     "text": [
      "G.Loss = 0.7109.  D.Loss = 0.6885"
     ]
    },
    {
     "name": "stderr",
     "output_type": "stream",
     "text": [
      "Training: 100%|█████████████████████████████████████████████████████████████████| 2080/2080 [08:21<00:00,  4.15batch/s]\n"
     ]
    },
    {
     "name": "stdout",
     "output_type": "stream",
     "text": [
      "G.Loss = 0.7134.  D.Loss = 0.6890\n",
      "Generator Training Loss = 0.7105.  Discriminator Training Loss = 0.6882\n",
      "Time Elapsed = 501.22 s\n"
     ]
    },
    {
     "name": "stderr",
     "output_type": "stream",
     "text": [
      "\r",
      "Training:   0%|                                                                            | 0/2080 [00:00<?, ?batch/s]"
     ]
    },
    {
     "name": "stdout",
     "output_type": "stream",
     "text": [
      "\n",
      "Validation Loss = 0.7226\tBest Validation Loss = 0.6439\n",
      "\n",
      "----------------------------------------------------------------\n",
      "Epoch:  16/20\n",
      "G LR = 0.0002657\n",
      "D LR = 0.0002657\n"
     ]
    },
    {
     "name": "stderr",
     "output_type": "stream",
     "text": [
      "Training:  20%|█████████████▏                                                    | 416/2080 [01:40<06:42,  4.14batch/s]"
     ]
    },
    {
     "name": "stdout",
     "output_type": "stream",
     "text": [
      "G.Loss = 0.7156.  D.Loss = 0.6870"
     ]
    },
    {
     "name": "stderr",
     "output_type": "stream",
     "text": [
      "Training:  40%|██████████████████████████▍                                       | 832/2080 [03:20<05:00,  4.16batch/s]"
     ]
    },
    {
     "name": "stdout",
     "output_type": "stream",
     "text": [
      "G.Loss = 0.7087.  D.Loss = 0.6881"
     ]
    },
    {
     "name": "stderr",
     "output_type": "stream",
     "text": [
      "Training:  60%|███████████████████████████████████████                          | 1248/2080 [05:00<03:19,  4.16batch/s]"
     ]
    },
    {
     "name": "stdout",
     "output_type": "stream",
     "text": [
      "G.Loss = 0.7181.  D.Loss = 0.6858"
     ]
    },
    {
     "name": "stderr",
     "output_type": "stream",
     "text": [
      "Training:  80%|████████████████████████████████████████████████████             | 1664/2080 [06:40<01:40,  4.15batch/s]"
     ]
    },
    {
     "name": "stdout",
     "output_type": "stream",
     "text": [
      "G.Loss = 0.7048.  D.Loss = 0.6879"
     ]
    },
    {
     "name": "stderr",
     "output_type": "stream",
     "text": [
      "Training: 100%|█████████████████████████████████████████████████████████████████| 2080/2080 [08:20<00:00,  4.15batch/s]\n"
     ]
    },
    {
     "name": "stdout",
     "output_type": "stream",
     "text": [
      "G.Loss = 0.7154.  D.Loss = 0.6870\n",
      "Generator Training Loss = 0.7125.  Discriminator Training Loss = 0.6872\n",
      "Time Elapsed = 501.00 s\n"
     ]
    },
    {
     "name": "stderr",
     "output_type": "stream",
     "text": [
      "\r",
      "Training:   0%|                                                                            | 0/2080 [00:00<?, ?batch/s]"
     ]
    },
    {
     "name": "stdout",
     "output_type": "stream",
     "text": [
      "\n",
      "Validation Loss = 0.7015\tBest Validation Loss = 0.6439\n",
      "\n",
      "----------------------------------------------------------------\n",
      "Epoch:  17/20\n",
      "G LR = 0.0002391\n",
      "D LR = 0.0002391\n"
     ]
    },
    {
     "name": "stderr",
     "output_type": "stream",
     "text": [
      "Training:  20%|█████████████▏                                                    | 416/2080 [01:40<06:38,  4.17batch/s]"
     ]
    },
    {
     "name": "stdout",
     "output_type": "stream",
     "text": [
      "G.Loss = 0.7157.  D.Loss = 0.6873"
     ]
    },
    {
     "name": "stderr",
     "output_type": "stream",
     "text": [
      "Training:  40%|██████████████████████████▍                                       | 832/2080 [03:20<05:08,  4.04batch/s]"
     ]
    },
    {
     "name": "stdout",
     "output_type": "stream",
     "text": [
      "G.Loss = 0.7170.  D.Loss = 0.6877"
     ]
    },
    {
     "name": "stderr",
     "output_type": "stream",
     "text": [
      "Training:  60%|███████████████████████████████████████                          | 1248/2080 [05:00<03:24,  4.07batch/s]"
     ]
    },
    {
     "name": "stdout",
     "output_type": "stream",
     "text": [
      "G.Loss = 0.7214.  D.Loss = 0.6873"
     ]
    },
    {
     "name": "stderr",
     "output_type": "stream",
     "text": [
      "Training:  80%|████████████████████████████████████████████████████             | 1664/2080 [06:40<01:40,  4.15batch/s]"
     ]
    },
    {
     "name": "stdout",
     "output_type": "stream",
     "text": [
      "G.Loss = 0.7067.  D.Loss = 0.6873"
     ]
    },
    {
     "name": "stderr",
     "output_type": "stream",
     "text": [
      "Training: 100%|█████████████████████████████████████████████████████████████████| 2080/2080 [08:21<00:00,  4.15batch/s]\n"
     ]
    },
    {
     "name": "stdout",
     "output_type": "stream",
     "text": [
      "G.Loss = 0.7081.  D.Loss = 0.6880\n",
      "Generator Training Loss = 0.7138.  Discriminator Training Loss = 0.6875\n",
      "Time Elapsed = 501.16 s\n"
     ]
    },
    {
     "name": "stderr",
     "output_type": "stream",
     "text": [
      "\r",
      "Training:   0%|                                                                            | 0/2080 [00:00<?, ?batch/s]"
     ]
    },
    {
     "name": "stdout",
     "output_type": "stream",
     "text": [
      "\n",
      "Validation Loss = 0.6561\tBest Validation Loss = 0.6439\n",
      "\n",
      "----------------------------------------------------------------\n",
      "Epoch:  18/20\n",
      "G LR = 0.0002152\n",
      "D LR = 0.0002152\n"
     ]
    },
    {
     "name": "stderr",
     "output_type": "stream",
     "text": [
      "Training:  20%|█████████████▏                                                    | 416/2080 [01:40<06:37,  4.19batch/s]"
     ]
    },
    {
     "name": "stdout",
     "output_type": "stream",
     "text": [
      "G.Loss = 0.7144.  D.Loss = 0.6872"
     ]
    },
    {
     "name": "stderr",
     "output_type": "stream",
     "text": [
      "Training:  40%|██████████████████████████▍                                       | 832/2080 [03:20<05:01,  4.14batch/s]"
     ]
    },
    {
     "name": "stdout",
     "output_type": "stream",
     "text": [
      "G.Loss = 0.7244.  D.Loss = 0.6866"
     ]
    },
    {
     "name": "stderr",
     "output_type": "stream",
     "text": [
      "Training:  60%|███████████████████████████████████████                          | 1248/2080 [05:00<03:19,  4.17batch/s]"
     ]
    },
    {
     "name": "stdout",
     "output_type": "stream",
     "text": [
      "G.Loss = 0.7056.  D.Loss = 0.6871"
     ]
    },
    {
     "name": "stderr",
     "output_type": "stream",
     "text": [
      "Training:  80%|████████████████████████████████████████████████████             | 1664/2080 [06:40<01:40,  4.14batch/s]"
     ]
    },
    {
     "name": "stdout",
     "output_type": "stream",
     "text": [
      "G.Loss = 0.7150.  D.Loss = 0.6877"
     ]
    },
    {
     "name": "stderr",
     "output_type": "stream",
     "text": [
      "Training: 100%|█████████████████████████████████████████████████████████████████| 2080/2080 [08:20<00:00,  4.16batch/s]\n"
     ]
    },
    {
     "name": "stdout",
     "output_type": "stream",
     "text": [
      "G.Loss = 0.7149.  D.Loss = 0.6885\n",
      "Generator Training Loss = 0.7148.  Discriminator Training Loss = 0.6874\n",
      "Time Elapsed = 500.60 s\n"
     ]
    },
    {
     "name": "stderr",
     "output_type": "stream",
     "text": [
      "\r",
      "Training:   0%|                                                                            | 0/2080 [00:00<?, ?batch/s]"
     ]
    },
    {
     "name": "stdout",
     "output_type": "stream",
     "text": [
      "\n",
      "Validation Loss = 0.6439\tBest Validation Loss = 0.6439\n",
      "\n",
      "----------------------------------------------------------------\n",
      "Epoch:  19/20\n",
      "G LR = 0.0001937\n",
      "D LR = 0.0001937\n"
     ]
    },
    {
     "name": "stderr",
     "output_type": "stream",
     "text": [
      "Training:  20%|█████████████▏                                                    | 416/2080 [01:40<06:38,  4.17batch/s]"
     ]
    },
    {
     "name": "stdout",
     "output_type": "stream",
     "text": [
      "G.Loss = 0.7143.  D.Loss = 0.6888"
     ]
    },
    {
     "name": "stderr",
     "output_type": "stream",
     "text": [
      "Training:  40%|██████████████████████████▍                                       | 832/2080 [03:20<04:58,  4.18batch/s]"
     ]
    },
    {
     "name": "stdout",
     "output_type": "stream",
     "text": [
      "G.Loss = 0.7217.  D.Loss = 0.6881"
     ]
    },
    {
     "name": "stderr",
     "output_type": "stream",
     "text": [
      "Training:  60%|███████████████████████████████████████                          | 1248/2080 [05:00<03:21,  4.14batch/s]"
     ]
    },
    {
     "name": "stdout",
     "output_type": "stream",
     "text": [
      "G.Loss = 0.7156.  D.Loss = 0.6871"
     ]
    },
    {
     "name": "stderr",
     "output_type": "stream",
     "text": [
      "Training:  80%|████████████████████████████████████████████████████             | 1664/2080 [06:41<01:39,  4.16batch/s]"
     ]
    },
    {
     "name": "stdout",
     "output_type": "stream",
     "text": [
      "G.Loss = 0.7115.  D.Loss = 0.6873"
     ]
    },
    {
     "name": "stderr",
     "output_type": "stream",
     "text": [
      "Training: 100%|█████████████████████████████████████████████████████████████████| 2080/2080 [08:21<00:00,  4.15batch/s]\n"
     ]
    },
    {
     "name": "stdout",
     "output_type": "stream",
     "text": [
      "G.Loss = 0.7231.  D.Loss = 0.6881\n",
      "Generator Training Loss = 0.7172.  Discriminator Training Loss = 0.6879\n",
      "Time Elapsed = 501.50 s\n"
     ]
    },
    {
     "name": "stderr",
     "output_type": "stream",
     "text": [
      "\r",
      "Training:   0%|                                                                            | 0/2080 [00:00<?, ?batch/s]"
     ]
    },
    {
     "name": "stdout",
     "output_type": "stream",
     "text": [
      "\n",
      "Validation Loss = 0.7452\tBest Validation Loss = 0.6439\n",
      "\n",
      "----------------------------------------------------------------\n",
      "Epoch:  20/20\n",
      "G LR = 0.0001743\n",
      "D LR = 0.0001743\n"
     ]
    },
    {
     "name": "stderr",
     "output_type": "stream",
     "text": [
      "Training:  20%|█████████████▏                                                    | 416/2080 [01:40<06:57,  3.98batch/s]"
     ]
    },
    {
     "name": "stdout",
     "output_type": "stream",
     "text": [
      "G.Loss = 0.7102.  D.Loss = 0.6872"
     ]
    },
    {
     "name": "stderr",
     "output_type": "stream",
     "text": [
      "Training:  40%|██████████████████████████▍                                       | 832/2080 [03:21<04:59,  4.16batch/s]"
     ]
    },
    {
     "name": "stdout",
     "output_type": "stream",
     "text": [
      "G.Loss = 0.7115.  D.Loss = 0.6878"
     ]
    },
    {
     "name": "stderr",
     "output_type": "stream",
     "text": [
      "Training:  60%|███████████████████████████████████████                          | 1248/2080 [05:01<03:21,  4.13batch/s]"
     ]
    },
    {
     "name": "stdout",
     "output_type": "stream",
     "text": [
      "G.Loss = 0.7208.  D.Loss = 0.6865"
     ]
    },
    {
     "name": "stderr",
     "output_type": "stream",
     "text": [
      "Training:  80%|████████████████████████████████████████████████████             | 1664/2080 [06:42<01:40,  4.12batch/s]"
     ]
    },
    {
     "name": "stdout",
     "output_type": "stream",
     "text": [
      "G.Loss = 0.7202.  D.Loss = 0.6873"
     ]
    },
    {
     "name": "stderr",
     "output_type": "stream",
     "text": [
      "Training: 100%|█████████████████████████████████████████████████████████████████| 2080/2080 [08:22<00:00,  4.14batch/s]\n"
     ]
    },
    {
     "name": "stdout",
     "output_type": "stream",
     "text": [
      "G.Loss = 0.7080.  D.Loss = 0.6882\n",
      "Generator Training Loss = 0.7141.  Discriminator Training Loss = 0.6874\n",
      "Time Elapsed = 502.83 s\n",
      "\n",
      "Validation Loss = 0.7313\tBest Validation Loss = 0.6439\n",
      "\n"
     ]
    },
    {
     "name": "stderr",
     "output_type": "stream",
     "text": [
      "Testing:   0%|                                                                     | 2/2400 [00:00<02:08, 18.69image/s]"
     ]
    },
    {
     "name": "stdout",
     "output_type": "stream",
     "text": [
      "----------------------------------------------------------------\n",
      "Generating Test Results...\n"
     ]
    },
    {
     "name": "stderr",
     "output_type": "stream",
     "text": [
      "                                                                                                                       "
     ]
    },
    {
     "name": "stdout",
     "output_type": "stream",
     "text": [
      "\n",
      "Time Elapsed = 124.33\n",
      "----------------------------------------------------------------\n"
     ]
    },
    {
     "name": "stderr",
     "output_type": "stream",
     "text": [
      "\r"
     ]
    }
   ],
   "source": [
    "main.main(args_dict)"
   ]
  }
 ],
 "metadata": {
  "accelerator": "GPU",
  "colab": {
   "collapsed_sections": [],
   "machine_shape": "hm",
   "name": "Pix2PixImageTranslation.ipynb",
   "provenance": [],
   "toc_visible": true
  },
  "kernelspec": {
   "display_name": "Python 3",
   "language": "python",
   "name": "python3"
  },
  "language_info": {
   "codemirror_mode": {
    "name": "ipython",
    "version": 3
   },
   "file_extension": ".py",
   "mimetype": "text/x-python",
   "name": "python",
   "nbconvert_exporter": "python",
   "pygments_lexer": "ipython3",
   "version": "3.7.6"
  },
  "pycharm": {
   "stem_cell": {
    "cell_type": "raw",
    "metadata": {
     "collapsed": false
    },
    "source": []
   }
  }
 },
 "nbformat": 4,
 "nbformat_minor": 1
}
