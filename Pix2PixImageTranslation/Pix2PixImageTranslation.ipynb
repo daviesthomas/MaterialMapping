{
 "cells": [
  {
   "cell_type": "markdown",
   "metadata": {},
   "source": [
    "# Exploring Material Mapping Techniques\n",
    "### Faisal Habib & Thomas Davies\n",
    "#### CSC 2516 -- Final Project (Spring 2020)\n",
    "\n",
    "Explore neural network architectures to render objects in user specified material that reduces the rendering time and improves designer's productivity."
   ]
  },
  {
   "cell_type": "markdown",
   "metadata": {},
   "source": [
    "## Setup\n",
    "On your Google Drive:\n",
    "1. Create a directory called 'pix2pix' and install all the model files into that folder.the following directory\n",
    "2. Create a directory called 'datasets' and copy all the training, validation, and test data within the subfolders"
   ]
  },
  {
   "cell_type": "markdown",
   "metadata": {},
   "source": [
    "### Access Google Drive"
   ]
  },
  {
   "cell_type": "code",
   "execution_count": null,
   "metadata": {},
   "outputs": [],
   "source": [
    "from google.colab import drive\n",
    "drive.mount('/content/drive')\n",
    "\n",
    "%cd ./drive/'My Drive'/'Colab Notebooks'/pix2pix\n",
    "!pwd\n",
    "%ls"
   ]
  },
  {
   "cell_type": "markdown",
   "metadata": {},
   "source": [
    "### Training Parameters & Model Settings"
   ]
  },
  {
   "cell_type": "code",
   "execution_count": null,
   "metadata": {},
   "outputs": [],
   "source": [
    "import ImageTransforms\n",
    "\n",
    "# args_dict contains important setup arguments.\n",
    "args_dict = {\n",
    "    'verbose': True,                               # Controls print messages.  Set to False to disable printing\n",
    "    'train': True,                                 # True for training the network\n",
    "    'parameter_dir': './pix2pix/parameters/',      # Directory to store the network parameters\n",
    "    'save_parameters': True,                       # Set to True to store the trained\n",
    "    'lr': 0.0002,                                  # Learning Rate\n",
    "    'beta1': (0.5, 0.999),                         # Adam Optimizer Parameters\n",
    "    'lambda_L1': 100.0,                            # L1 Regularizer\n",
    "    'batch_size': 4,                               # Batch Size\n",
    "    'total_epochs': 200,                           # Total epochs to train\n",
    "    'target_real_label': 1,                        # Numerical value for true label\n",
    "    'target_forged_label': 0,                      # Numerical value for false label\n",
    "\n",
    "    # Data file locations.  Set to None if a validation set is not available\n",
    "    'training_data_folder': './datasets/facades/train',\n",
    "    'validation_data_folder': './datasets/facades/val',\n",
    "    'test_data_folder': './datasets/facades/test',\n",
    "    'direction': 'B2A',\n",
    "\n",
    "    # Image processing parameters.  These are specific to the Facade dataset\n",
    "    'PreProcessOptions': ImageTransforms.PreprocessOptions.RESIZE_AND_CROP,\n",
    "    'load_size': 286,\n",
    "    'crop_size': 256,\n",
    "    'shuffle': True,\n",
    "    'grayscale_input': False,\n",
    "    'grayscale_output': False\n",
    "}"
   ]
  },
  {
   "cell_type": "markdown",
   "metadata": {},
   "source": [
    "### Execute Main File"
   ]
  },
  {
   "cell_type": "code",
   "execution_count": null,
   "metadata": {},
   "outputs": [],
   "source": [
    "!python3 ./main.py args_dict"
   ]
  }
 ],
 "metadata": {
  "kernelspec": {
   "display_name": "Python 3",
   "language": "python",
   "name": "python3"
  },
  "language_info": {
   "codemirror_mode": {
    "name": "ipython",
    "version": 3
   },
   "file_extension": ".py",
   "mimetype": "text/x-python",
   "name": "python",
   "nbconvert_exporter": "python",
   "pygments_lexer": "ipython3",
   "version": "3.7.4"
  }
 },
 "nbformat": 4,
 "nbformat_minor": 2
}
